{
 "cells": [
  {
   "cell_type": "code",
   "execution_count": 1,
   "id": "debd278e",
   "metadata": {},
   "outputs": [],
   "source": [
    "# Author : Mohammad hssoein radpour\n",
    "# project.No : 03"
   ]
  },
  {
   "cell_type": "code",
   "execution_count": 2,
   "id": "8730f962",
   "metadata": {},
   "outputs": [],
   "source": [
    "# This is simple rock paper scissor game"
   ]
  },
  {
   "cell_type": "code",
   "execution_count": 3,
   "id": "49245bf5",
   "metadata": {},
   "outputs": [],
   "source": [
    "# First we import our choice function from random module\n",
    "from random import choice"
   ]
  },
  {
   "cell_type": "code",
   "execution_count": 4,
   "id": "65af4093",
   "metadata": {},
   "outputs": [
    {
     "name": "stdout",
     "output_type": "stream",
     "text": [
      "Enter rock,paper,scissors : rock\n",
      "My choice is rock --> system choice is scissors\n",
      "Winnnnnnnnnn\n",
      "Enter rock,paper,scissors : rock\n",
      "My choice is rock --> system choice is rock\n",
      "Equal\n",
      "Enter rock,paper,scissors : paper\n",
      "My choice is paper --> system choice is scissors\n",
      "lossssssse\n",
      "Enter rock,paper,scissors : scissors\n",
      "My choice is scissors --> system choice is scissors\n",
      "Equal\n",
      "Enter rock,paper,scissors : paper\n",
      "My choice is paper --> system choice is rock\n",
      "Winnnnnnnnnn\n",
      "Enter rock,paper,scissors : paper\n",
      "My choice is paper --> system choice is rock\n",
      "Winnnnnnnnnn\n",
      "--------------------------------------------------\n",
      "My wins --> 3\n",
      "system wins --> 1\n",
      "--------------------------------------------------\n",
      "You win the game\n"
     ]
    }
   ],
   "source": [
    "MY_COUNTER=SYS_COUNTER = 0\n",
    "while True:\n",
    "    Mylst = ['rock','paper','scissors']\n",
    "    rand = choice(Mylst)\n",
    "    while True:\n",
    "        Mychoice = input('Enter rock,paper,scissors : ')\n",
    "        if Mychoice in Mylst:\n",
    "            break\n",
    "    if Mychoice == rand:\n",
    "        print(f'My choice is {Mychoice} --> system choice is {rand}')\n",
    "        print('Equal')\n",
    "    elif (rand == 'rock') and (Mychoice == 'paper'):\n",
    "        print(f'My choice is {Mychoice} --> system choice is {rand}')\n",
    "        print('Winnnnnnnnnn')\n",
    "        MY_COUNTER += 1\n",
    "    elif (rand == 'rock') and (Mychoice == 'scissors'):\n",
    "        print(f'My choice is {Mychoice} --> system choice is {rand}')\n",
    "        print('lossssssse')\n",
    "        SYS_COUNTER += 1\n",
    "    elif (rand == 'paper') and (Mychoice == 'rock'):\n",
    "        print(f'My choice is {Mychoice} --> system choice is {rand}')\n",
    "        print('lossssssse')\n",
    "        SYS_COUNTER += 1\n",
    "    elif (rand == 'paper') and (Mychoice == 'scissors'):\n",
    "        print(f'My choice is {Mychoice} --> system choice is {rand}')\n",
    "        print('Winnnnnnnnnn')\n",
    "        MY_COUNTER += 1\n",
    "    elif (rand == 'scissors') and (Mychoice == 'rock'):\n",
    "        print(f'My choice is {Mychoice} --> system choice is {rand}')\n",
    "        print('Winnnnnnnnnn')\n",
    "        MY_COUNTER += 1\n",
    "    elif (rand == 'scissors') and (Mychoice == 'paper'):\n",
    "        print(f'My choice is {Mychoice} --> system choice is {rand}')\n",
    "        print('lossssssse')\n",
    "        SYS_COUNTER += 1\n",
    "    if MY_COUNTER>2 or SYS_COUNTER >2:\n",
    "        break\n",
    "print('-'*50)\n",
    "print(f'My wins --> {MY_COUNTER}')\n",
    "print(f'system wins --> {SYS_COUNTER}')\n",
    "print('-'*50)\n",
    "if MY_COUNTER > SYS_COUNTER:\n",
    "    print('You win the game')\n",
    "else:\n",
    "    print('You lose the game')\n"
   ]
  }
 ],
 "metadata": {
  "kernelspec": {
   "display_name": "Python 3 (ipykernel)",
   "language": "python",
   "name": "python3"
  },
  "language_info": {
   "codemirror_mode": {
    "name": "ipython",
    "version": 3
   },
   "file_extension": ".py",
   "mimetype": "text/x-python",
   "name": "python",
   "nbconvert_exporter": "python",
   "pygments_lexer": "ipython3",
   "version": "3.11.4"
  }
 },
 "nbformat": 4,
 "nbformat_minor": 5
}
